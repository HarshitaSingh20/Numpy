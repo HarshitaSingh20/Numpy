{
  "nbformat": 4,
  "nbformat_minor": 0,
  "metadata": {
    "colab": {
      "name": "Harshita Singh - numpy-assignment-4.ipynb",
      "provenance": [],
      "collapsed_sections": []
    },
    "kernelspec": {
      "name": "python3",
      "display_name": "Python 3"
    }
  },
  "cells": [
    {
      "cell_type": "code",
      "metadata": {
        "id": "LYAs5f4MUyqX",
        "colab_type": "code",
        "colab": {}
      },
      "source": [
        "import numpy as np"
      ],
      "execution_count": 0,
      "outputs": []
    },
    {
      "cell_type": "code",
      "metadata": {
        "id": "kith96zaU3v4",
        "colab_type": "code",
        "outputId": "14b07ab8-fbc4-4ad4-c5b1-a20438741470",
        "colab": {
          "base_uri": "https://localhost:8080/",
          "height": 84
        }
      },
      "source": [
        "arr1=np.arange(20).reshape(4,5)\n",
        "arr1"
      ],
      "execution_count": 0,
      "outputs": [
        {
          "output_type": "execute_result",
          "data": {
            "text/plain": [
              "array([[ 0,  1,  2,  3,  4],\n",
              "       [ 5,  6,  7,  8,  9],\n",
              "       [10, 11, 12, 13, 14],\n",
              "       [15, 16, 17, 18, 19]])"
            ]
          },
          "metadata": {
            "tags": []
          },
          "execution_count": 6
        }
      ]
    },
    {
      "cell_type": "code",
      "metadata": {
        "id": "hSQuEs7WVpXk",
        "colab_type": "code",
        "outputId": "3ab42091-cac4-4d9e-b4a0-dd0791e89406",
        "colab": {
          "base_uri": "https://localhost:8080/",
          "height": 84
        }
      },
      "source": [
        "# Q1 Write a numpy code to swap col1([0,5,10,15]) with col4([3,8,13,18])\n",
        "# Hint----> Fancy Indexing\n",
        "arr1=np.arange(20).reshape(4,5)\n",
        "arr2=arr1[:,(3,1,2,0,4)]\n",
        "arr2\n",
        "\n",
        "\n"
      ],
      "execution_count": 0,
      "outputs": [
        {
          "output_type": "execute_result",
          "data": {
            "text/plain": [
              "array([[ 3,  1,  2,  0,  4],\n",
              "       [ 8,  6,  7,  5,  9],\n",
              "       [13, 11, 12, 10, 14],\n",
              "       [18, 16, 17, 15, 19]])"
            ]
          },
          "metadata": {
            "tags": []
          },
          "execution_count": 27
        }
      ]
    },
    {
      "cell_type": "code",
      "metadata": {
        "id": "qzrMoxJSWOEm",
        "colab_type": "code",
        "outputId": "709a1d1c-e4e7-43db-862f-08cfcfe7e5d2",
        "colab": {
          "base_uri": "https://localhost:8080/",
          "height": 84
        }
      },
      "source": [
        "# Q2 Write a numpy code to reverse the rows of arr1\n",
        "# The output should be [15, 16, 17, 18, 19] as first row and [ 0,  1,  2,  3,  4] as last row\n",
        "arr1=np.arange(20).reshape(4,5)\n",
        "arr2=arr1[(3,2,1,0),:]\n",
        "arr2"
      ],
      "execution_count": 0,
      "outputs": [
        {
          "output_type": "execute_result",
          "data": {
            "text/plain": [
              "array([[15, 16, 17, 18, 19],\n",
              "       [10, 11, 12, 13, 14],\n",
              "       [ 5,  6,  7,  8,  9],\n",
              "       [ 0,  1,  2,  3,  4]])"
            ]
          },
          "metadata": {
            "tags": []
          },
          "execution_count": 37
        }
      ]
    },
    {
      "cell_type": "code",
      "metadata": {
        "id": "qU9DW6vQWivF",
        "colab_type": "code",
        "outputId": "0d667db8-236a-426f-bf70-de23592a9da3",
        "colab": {
          "base_uri": "https://localhost:8080/",
          "height": 67
        }
      },
      "source": [
        "arr2=np.array([[1,2,np.nan],[4,5,6],[np.nan,np.nan,9]])\n",
        "arr2"
      ],
      "execution_count": 0,
      "outputs": [
        {
          "output_type": "execute_result",
          "data": {
            "text/plain": [
              "array([[ 1.,  2., nan],\n",
              "       [ 4.,  5.,  6.],\n",
              "       [nan, nan,  9.]])"
            ]
          },
          "metadata": {
            "tags": []
          },
          "execution_count": 9
        }
      ]
    },
    {
      "cell_type": "code",
      "metadata": {
        "id": "V9pLugRlXZCV",
        "colab_type": "code",
        "outputId": "f7885ebd-96fc-4366-a103-78be26421164",
        "colab": {
          "base_uri": "https://localhost:8080/",
          "height": 67
        }
      },
      "source": [
        "# Q3 Write a code to replace all the nan(missing values) of arr2 with the mean of arr2\n",
        "\n",
        "arr2=np.array([[1,2,np.nan],[4,5,6],[np.nan,np.nan,9]])\n",
        "arr2\n",
        "a=np.mean(arr2)\n",
        "arr2[np.isnan(arr2)==True]=0\n",
        "a=np.mean(arr2)\n",
        "arr2[arr2==0]=a\n",
        "arr2\n",
        "\n",
        "\n",
        "\n",
        "\n",
        "\n",
        "\n",
        "\n",
        "\n",
        "\n",
        "\n",
        "\n"
      ],
      "execution_count": 0,
      "outputs": [
        {
          "output_type": "execute_result",
          "data": {
            "text/plain": [
              "array([[1., 2., 3.],\n",
              "       [4., 5., 6.],\n",
              "       [3., 3., 9.]])"
            ]
          },
          "metadata": {
            "tags": []
          },
          "execution_count": 53
        }
      ]
    },
    {
      "cell_type": "code",
      "metadata": {
        "id": "F3tUsOivZ6Wf",
        "colab_type": "code",
        "outputId": "771f6bf9-38c6-4d41-a35c-488ab833e87f",
        "colab": {
          "base_uri": "https://localhost:8080/",
          "height": 101
        }
      },
      "source": [
        "arr3=np.random.randint(low=1,high=100,size=20).reshape(5,4)\n",
        "arr3"
      ],
      "execution_count": 0,
      "outputs": [
        {
          "output_type": "execute_result",
          "data": {
            "text/plain": [
              "array([[93,  7, 11, 72],\n",
              "       [34, 72, 46, 70],\n",
              "       [12, 29, 15, 42],\n",
              "       [16,  6, 79, 11],\n",
              "       [10,  1, 98, 20]])"
            ]
          },
          "metadata": {
            "tags": []
          },
          "execution_count": 11
        }
      ]
    },
    {
      "cell_type": "code",
      "metadata": {
        "id": "HzeC03N6aQpx",
        "colab_type": "code",
        "outputId": "0161ba7c-8ac5-4acd-e58c-c6b9542325e2",
        "colab": {
          "base_uri": "https://localhost:8080/",
          "height": 34
        }
      },
      "source": [
        "# Q4 Write a code which can fetch all items from arr3 which are either greater than 25 or a multiple of 3\n",
        "arr3[(arr3>25) | (arr3%3==0)]"
      ],
      "execution_count": 0,
      "outputs": [
        {
          "output_type": "execute_result",
          "data": {
            "text/plain": [
              "array([93, 72, 34, 72, 46, 70, 12, 29, 15, 42,  6, 79, 98])"
            ]
          },
          "metadata": {
            "tags": []
          },
          "execution_count": 68
        }
      ]
    },
    {
      "cell_type": "code",
      "metadata": {
        "id": "PxcxU2ACa9Ri",
        "colab_type": "code",
        "outputId": "62dd877a-7906-4e74-b7d0-237bdc906497",
        "colab": {
          "base_uri": "https://localhost:8080/",
          "height": 67
        }
      },
      "source": [
        "# Q5 Write a code to find the 10th, 25th, 50th(median) percentile of arr3\n",
        "# Percentiles are a very important concept in Statistics. If you don't know about it refer the video below\n",
        "# https://www.youtube.com/watch?v=Snf6Wpn-L4c \n",
        "# Hint: to solve this function google np.percentile()\n",
        "\n",
        "#50th percentile\n",
        "a=np.percentile(arr3,50)\n",
        "#25th percentile\n",
        "b=np.percentile(arr3,25)\n",
        "\n",
        "#10th percentile(arr3,10)\n",
        "c=np.percentile(arr3,10)\n",
        "print(a)\n",
        "print(b)\n",
        "print(c)"
      ],
      "execution_count": 0,
      "outputs": [
        {
          "output_type": "stream",
          "text": [
            "24.5\n",
            "11.0\n",
            "6.9\n"
          ],
          "name": "stdout"
        }
      ]
    },
    {
      "cell_type": "code",
      "metadata": {
        "id": "_8moTHWYcDCt",
        "colab_type": "code",
        "colab": {}
      },
      "source": [
        ""
      ],
      "execution_count": 0,
      "outputs": []
    }
  ]
}