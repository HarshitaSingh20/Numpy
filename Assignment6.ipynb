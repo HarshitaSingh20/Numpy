{
  "nbformat": 4,
  "nbformat_minor": 0,
  "metadata": {
    "colab": {
      "name": "Harshita Singh - numpy-assignment-6.ipynb",
      "provenance": [],
      "collapsed_sections": []
    },
    "kernelspec": {
      "name": "python3",
      "display_name": "Python 3"
    }
  },
  "cells": [
    {
      "cell_type": "code",
      "metadata": {
        "id": "6PAefYSKHONH",
        "colab_type": "code",
        "colab": {}
      },
      "source": [
        "# You have write a function which takes 2 numpy array as input and returns \"Hoga\" or \"Nahi Hoga\" \n",
        "# depending on if broadcasting is possible on those two arrays"
      ],
      "execution_count": 0,
      "outputs": []
    },
    {
      "cell_type": "code",
      "metadata": {
        "id": "LtPSvg-4HjEv",
        "colab_type": "code",
        "colab": {}
      },
      "source": [
        "# Write your logic here\n",
        "import numpy as np\n",
        "def hoga_ki_nahi(arr1,arr2):    \n",
        "    a=''\n",
        "    try:\n",
        "      arr1+arr2\n",
        "    except Exception:\n",
        "      a='nhi hoga'     #to modify the error message in case the addition of the two arrays is not possible\n",
        "      print(a)\n",
        "    if(a!='nhi hoga'): #if there is no error in addition, this implies that the addition took place \n",
        "      print('hoga')\n",
        "    \n",
        "    \n",
        "      \n",
        "  \n"
      ],
      "execution_count": 0,
      "outputs": []
    },
    {
      "cell_type": "code",
      "metadata": {
        "id": "BGp93pIEHsOG",
        "colab_type": "code",
        "outputId": "ccd00cd6-6ab3-42d9-d224-86734fcf5ec1",
        "colab": {
          "base_uri": "https://localhost:8080/",
          "height": 34
        }
      },
      "source": [
        "import numpy as np\n",
        "a=np.arange(6).reshape(2,3)\n",
        "b=np.arange(6).reshape(2,3)\n",
        "hoga_ki_nahi(a,b)"
      ],
      "execution_count": 0,
      "outputs": [
        {
          "output_type": "stream",
          "text": [
            "hoga\n"
          ],
          "name": "stdout"
        }
      ]
    },
    {
      "cell_type": "code",
      "metadata": {
        "id": "jz_2U5LRH2xy",
        "colab_type": "code",
        "outputId": "ca216c5b-ecf1-4ad8-e956-13f8353b927e",
        "colab": {
          "base_uri": "https://localhost:8080/",
          "height": 34
        }
      },
      "source": [
        "a=np.arange(6).reshape(3,2)\n",
        "b=np.arange(6).reshape(2,3)\n",
        "hoga_ki_nahi(a,b)"
      ],
      "execution_count": 0,
      "outputs": [
        {
          "output_type": "stream",
          "text": [
            "nhi hoga\n"
          ],
          "name": "stdout"
        }
      ]
    },
    {
      "cell_type": "code",
      "metadata": {
        "id": "BBN3lYvQFMdu",
        "colab_type": "code",
        "colab": {}
      },
      "source": [
        ""
      ],
      "execution_count": 0,
      "outputs": []
    }
  ]
}