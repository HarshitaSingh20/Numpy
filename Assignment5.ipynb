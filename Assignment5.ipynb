{
  "nbformat": 4,
  "nbformat_minor": 0,
  "metadata": {
    "colab": {
      "name": "Harshita Singh - numpy-assignment-5.ipynb",
      "provenance": [],
      "collapsed_sections": []
    },
    "kernelspec": {
      "name": "python3",
      "display_name": "Python 3"
    }
  },
  "cells": [
    {
      "cell_type": "markdown",
      "metadata": {
        "id": "HHEofVKhbKOJ",
        "colab_type": "text"
      },
      "source": [
        "Kids... Let me tell you a story, Once a statistician was lost in a jungle. It was pitch dark. Nothing could be seen around. The statistician was afraid but he kept moving. Suddenly, he saw a small house. He went there and knocked on the door. Someone opened the door. \n",
        "\n",
        "Guess what was the first question that came out of the statistician's mouth...\n",
        "\n",
        "Bhaiya, yahan kahin aas paas Normal Distribution milega?\n",
        "\n",
        "That's how important Normal distribution is in a Statistician's (Read Data Analyst) life. Whenever a statistician is lost in an analysis, his/her first response is to reach or find a normal distribution somewhere. \n",
        "\n",
        "![alt text](https://media2.giphy.com/media/maIEBUU5OmrMA/source.gif)\n",
        "\n",
        "Although, we are going to study Normal Distribution in future episodes:). Today I want you to get a feel of the Normal/Gaussian Distribution."
      ]
    },
    {
      "cell_type": "markdown",
      "metadata": {
        "id": "udWaNZcNehRo",
        "colab_type": "text"
      },
      "source": [
        "In a normal distribution, there are 2 things of utmost importance, Mean and the Standard Deviation. ([Read more about Normal Distribution here](https://en.wikipedia.org/wiki/Normal_distribution)).\n",
        "\n",
        "I want you to create a function which takes 2 inputs - the Mean and Standard Deviation and prints out the graph of the Normal Distribution (also known as PDF, you will find the formula in the wiki article). Assume x is given and calculate y using the pdf formula. The resultant graph would look something like this (any one of them):!\n",
        "\n",
        "![](https://upload.wikimedia.org/wikipedia/commons/thumb/7/74/Normal_Distribution_PDF.svg/340px-Normal_Distribution_PDF.svg.png)"
      ]
    },
    {
      "cell_type": "markdown",
      "metadata": {
        "id": "JXSsUhFxf8VC",
        "colab_type": "text"
      },
      "source": [
        "If you are successful in writing this function, that would be...\n",
        "\n",
        "Legend...\n",
        "\n",
        "Wait for it..."
      ]
    },
    {
      "cell_type": "code",
      "metadata": {
        "id": "fhPRbXGiXaoK",
        "colab_type": "code",
        "outputId": "66c38a03-5aff-4e62-8a23-cc3f397199ec",
        "colab": {
          "base_uri": "https://localhost:8080/",
          "height": 1000
        }
      },
      "source": [
        "import numpy as np\n",
        "\n",
        "# Write function code here\n",
        "import numpy as np\n",
        "import matplotlib.pyplot as plt\n",
        "%matplotlib inline\n",
        "\n",
        "def plotter(meanValue,sdValue):\n",
        "    e=2.718\n",
        "    a=meanValue\n",
        "    b=pow(sdValue,2)\n",
        "    x=np.linspace(-10,10,100)\n",
        "    a1=pow((2*3.14*b),-0.5)\n",
        "    b1=pow(e,-pow((x-a),2)/(2*b))\n",
        "    y=a1*b1\n",
        "    print(y)\n",
        "    print(x)\n",
        "    plt.plot(x,y)\n",
        "plotter(2,3)\n"
      ],
      "execution_count": 0,
      "outputs": [
        {
          "output_type": "stream",
          "text": [
            "[4.46584149e-05 5.83295011e-05 7.58409972e-05 9.81636330e-05\n",
            " 1.26481797e-04 1.62231897e-04 2.07145395e-04 2.63296529e-04\n",
            " 3.33154590e-04 4.19640392e-04 5.26186355e-04 6.56799323e-04\n",
            " 8.16124895e-04 1.00951173e-03 1.24307385e-03 1.52374856e-03\n",
            " 1.85934723e-03 2.25859576e-03 2.73116119e-03 3.28766056e-03\n",
            " 3.93964806e-03 4.69957622e-03 5.58072707e-03 6.59710939e-03\n",
            " 7.76331848e-03 9.09435570e-03 1.06054057e-02 1.23115703e-02\n",
            " 1.42275601e-02 1.63673446e-02 1.87437653e-02 2.13681176e-02\n",
            " 2.42497077e-02 2.73953950e-02 3.08091304e-02 3.44915039e-02\n",
            " 3.84393147e-02 4.26451806e-02 4.70972007e-02 5.17786886e-02\n",
            " 5.66679909e-02 6.17384041e-02 6.69582044e-02 7.22907972e-02\n",
            " 7.76949953e-02 8.31254275e-02 8.85330760e-02 9.38659396e-02\n",
            " 9.90698089e-02 1.04089143e-01 1.08868029e-01 1.13351194e-01\n",
            " 1.17485064e-01 1.21218813e-01 1.24505408e-01 1.27302584e-01\n",
            " 1.29573753e-01 1.31288798e-01 1.32424738e-01 1.32966240e-01\n",
            " 1.32905964e-01 1.32244728e-01 1.30991489e-01 1.29163144e-01\n",
            " 1.26784147e-01 1.23885966e-01 1.20506393e-01 1.16688721e-01\n",
            " 1.12480823e-01 1.07934158e-01 1.03102726e-01 9.80420089e-02\n",
            " 9.28079267e-02 8.74558281e-02 8.20395476e-02 7.66105488e-02\n",
            " 7.12171690e-02 6.59039817e-02 6.07112839e-02 5.56747142e-02\n",
            " 5.08250005e-02 4.61878346e-02 4.17838668e-02 3.76288088e-02\n",
            " 3.37336339e-02 3.01048592e-02 2.67448945e-02 2.36524424e-02\n",
            " 2.08229336e-02 1.82489823e-02 1.59208482e-02 1.38268919e-02\n",
            " 1.19540138e-02 1.02880662e-02 8.81423377e-03 7.51737464e-03\n",
            " 6.38232095e-03 5.39413611e-03 4.53832902e-03 3.80102626e-03]\n",
            "[-10.          -9.7979798   -9.5959596   -9.39393939  -9.19191919\n",
            "  -8.98989899  -8.78787879  -8.58585859  -8.38383838  -8.18181818\n",
            "  -7.97979798  -7.77777778  -7.57575758  -7.37373737  -7.17171717\n",
            "  -6.96969697  -6.76767677  -6.56565657  -6.36363636  -6.16161616\n",
            "  -5.95959596  -5.75757576  -5.55555556  -5.35353535  -5.15151515\n",
            "  -4.94949495  -4.74747475  -4.54545455  -4.34343434  -4.14141414\n",
            "  -3.93939394  -3.73737374  -3.53535354  -3.33333333  -3.13131313\n",
            "  -2.92929293  -2.72727273  -2.52525253  -2.32323232  -2.12121212\n",
            "  -1.91919192  -1.71717172  -1.51515152  -1.31313131  -1.11111111\n",
            "  -0.90909091  -0.70707071  -0.50505051  -0.3030303   -0.1010101\n",
            "   0.1010101    0.3030303    0.50505051   0.70707071   0.90909091\n",
            "   1.11111111   1.31313131   1.51515152   1.71717172   1.91919192\n",
            "   2.12121212   2.32323232   2.52525253   2.72727273   2.92929293\n",
            "   3.13131313   3.33333333   3.53535354   3.73737374   3.93939394\n",
            "   4.14141414   4.34343434   4.54545455   4.74747475   4.94949495\n",
            "   5.15151515   5.35353535   5.55555556   5.75757576   5.95959596\n",
            "   6.16161616   6.36363636   6.56565657   6.76767677   6.96969697\n",
            "   7.17171717   7.37373737   7.57575758   7.77777778   7.97979798\n",
            "   8.18181818   8.38383838   8.58585859   8.78787879   8.98989899\n",
            "   9.19191919   9.39393939   9.5959596    9.7979798   10.        ]\n"
          ],
          "name": "stdout"
        },
        {
          "output_type": "display_data",
          "data": {
            "image/png": "[encoded data removed]",
            "text/plain": [
              "<Figure size 432x288 with 1 Axes>"
            ]
          },
          "metadata": {
            "tags": []
          }
        }
      ]
    },
    {
      "cell_type": "markdown",
      "metadata": {
        "id": "haFIocxtglhx",
        "colab_type": "text"
      },
      "source": [
        "DARY!!!\n",
        "\n",
        "![alt text](https://i.kym-cdn.com/photos/images/original/000/903/439/52a.jpg)"
      ]
    },
    {
      "cell_type": "code",
      "metadata": {
        "id": "p9x7LVMBgs43",
        "colab_type": "code",
        "colab": {}
      },
      "source": [
        ""
      ],
      "execution_count": 0,
      "outputs": []
    }
  ]
}